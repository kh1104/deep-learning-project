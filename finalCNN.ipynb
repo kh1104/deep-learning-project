{
  "cells": [
    {
      "cell_type": "markdown",
      "metadata": {
        "id": "3DR-eO17geWu"
      },
      "source": [
        "# recognition of traffic gignal\n"
      ]
    },
    {
      "cell_type": "markdown",
      "metadata": {
        "id": "EMefrVPCg-60"
      },
      "source": [
        "### Importing the libraries"
      ]
    },
    {
      "cell_type": "code",
      "execution_count": 36,
      "metadata": {
        "colab": {
          "base_uri": "https://localhost:8080/"
        },
        "id": "YWBfy9ZcEVXA",
        "outputId": "bfa57e22-aba7-4301-83f5-cf380e7aec4a"
      },
      "outputs": [
        {
          "name": "stdout",
          "output_type": "stream",
          "text": [
            "Drive already mounted at /content/drive; to attempt to forcibly remount, call drive.mount(\"/content/drive\", force_remount=True).\n"
          ]
        }
      ],
      "source": []
    },
    {
      "cell_type": "code",
      "execution_count": 31,
      "metadata": {
        "id": "sCV30xyVhFbE"
      },
      "outputs": [],
      "source": [
        "import tensorflow as tf\n",
        "from keras.preprocessing.image import ImageDataGenerator"
      ]
    },
    {
      "cell_type": "code",
      "execution_count": 32,
      "metadata": {
        "colab": {
          "base_uri": "https://localhost:8080/",
          "height": 35
        },
        "id": "FIleuCAjoFD8",
        "outputId": "46afdd89-d8ca-4050-dded-7619138cbf41"
      },
      "outputs": [
        {
          "data": {
            "text/plain": [
              "'2.7.0'"
            ]
          },
          "execution_count": 32,
          "metadata": {},
          "output_type": "execute_result"
        }
      ],
      "source": [
        "tf.__version__"
      ]
    },
    {
      "cell_type": "markdown",
      "metadata": {
        "id": "oxQxCBWyoGPE"
      },
      "source": [
        "## Part 1 - Data Preprocessing"
      ]
    },
    {
      "cell_type": "markdown",
      "metadata": {
        "id": "MvE-heJNo3GG"
      },
      "source": [
        "### Preprocessing the Training set"
      ]
    },
    {
      "cell_type": "code",
      "execution_count": 33,
      "metadata": {
        "colab": {
          "base_uri": "https://localhost:8080/"
        },
        "id": "0koUcJMJpEBD",
        "outputId": "25530424-68fe-4b7f-9435-2a657ce3e54c"
      },
      "outputs": [
        {
          "name": "stdout",
          "output_type": "stream",
          "text": [
            "Found 2390 images belonging to 14 classes.\n"
          ]
        }
      ],
      "source": [
        "train_datagen = ImageDataGenerator(rescale = 1./255,\n",
        "                                   shear_range = 0.2,\n",
        "                                   zoom_range = 0.2,\n",
        "                                   horizontal_flip = True)\n",
        "training_set = train_datagen.flow_from_directory('C://Users/Vikash Sonar/Desktop/dataset/train',\n",
        "                                                 target_size = (128, 128),\n",
        "                                                 batch_size = 32,\n",
        "                                                 class_mode = 'categorical')"
      ]
    },
    {
      "cell_type": "markdown",
      "metadata": {
        "id": "mrCMmGw9pHys"
      },
      "source": [
        "### Preprocessing the Test set"
      ]
    },
    {
      "cell_type": "code",
      "execution_count": 34,
      "metadata": {
        "colab": {
          "base_uri": "https://localhost:8080/"
        },
        "id": "SH4WzfOhpKc3",
        "outputId": "c150fb05-c1de-4e35-a89a-b7b2425e22ed"
      },
      "outputs": [
        {
          "name": "stdout",
          "output_type": "stream",
          "text": [
            "Found 446 images belonging to 14 classes.\n"
          ]
        }
      ],
      "source": [
        "test_datagen = ImageDataGenerator(rescale = 1./255)\n",
        "test_set = test_datagen.flow_from_directory('C://Users/Vikash Sonar/Desktop/dataset/test',\n",
        "                                            target_size = (128, 128),\n",
        "                                            batch_size = 32,\n",
        "                                            class_mode = 'categorical')"
      ]
    },
    {
      "cell_type": "code",
      "execution_count": 35,
      "metadata": {
        "colab": {
          "base_uri": "https://localhost:8080/"
        },
        "id": "r_ihHlc9ES1G",
        "outputId": "5b3684fd-a3a4-49ca-84d7-60a73c138877"
      },
      "outputs": [
        {
          "data": {
            "text/plain": [
              "{'auto track': 0,\n",
              " 'bus stop': 1,\n",
              " 'car parking': 2,\n",
              " 'cycling one way': 3,\n",
              " 'go slow': 4,\n",
              " 'no bike': 5,\n",
              " 'no left': 6,\n",
              " 'no parking': 7,\n",
              " 'no right': 8,\n",
              " 'speed 80': 9,\n",
              " 'speed limit': 10,\n",
              " 'speed70': 11,\n",
              " 'stop and proceed': 12,\n",
              " 'zebra crossing': 13}"
            ]
          },
          "execution_count": 35,
          "metadata": {},
          "output_type": "execute_result"
        }
      ],
      "source": [
        "training_set.class_indices"
      ]
    },
    {
      "cell_type": "markdown",
      "metadata": {
        "id": "af8O4l90gk7B"
      },
      "source": [
        "## Part 2 - Building the CNN"
      ]
    },
    {
      "cell_type": "markdown",
      "metadata": {
        "id": "ces1gXY2lmoX"
      },
      "source": [
        "### Initialising the CNN"
      ]
    },
    {
      "cell_type": "code",
      "execution_count": 36,
      "metadata": {
        "id": "SAUt4UMPlhLS"
      },
      "outputs": [],
      "source": [
        "cnn = tf.keras.models.Sequential()"
      ]
    },
    {
      "cell_type": "markdown",
      "metadata": {
        "id": "u5YJj_XMl5LF"
      },
      "source": [
        "### Step 1 - Convolution"
      ]
    },
    {
      "cell_type": "code",
      "execution_count": 37,
      "metadata": {
        "id": "XPzPrMckl-hV"
      },
      "outputs": [],
      "source": [
        "cnn.add(tf.keras.layers.Conv2D(filters=32, kernel_size=3, activation='relu', input_shape=[128, 128, 3]))"
      ]
    },
    {
      "cell_type": "markdown",
      "metadata": {
        "id": "tf87FpvxmNOJ"
      },
      "source": [
        "### Step 2 - Pooling"
      ]
    },
    {
      "cell_type": "code",
      "execution_count": 38,
      "metadata": {
        "id": "ncpqPl69mOac"
      },
      "outputs": [],
      "source": [
        "cnn.add(tf.keras.layers.MaxPool2D(pool_size=2, strides=2))"
      ]
    },
    {
      "cell_type": "markdown",
      "metadata": {
        "id": "xaTOgD8rm4mU"
      },
      "source": [
        "### Adding a second convolutional layer"
      ]
    },
    {
      "cell_type": "code",
      "execution_count": 39,
      "metadata": {
        "id": "i_-FZjn_m8gk"
      },
      "outputs": [],
      "source": [
        "cnn.add(tf.keras.layers.Conv2D(filters=32, kernel_size=3, activation='relu'))\n",
        "cnn.add(tf.keras.layers.MaxPool2D(pool_size=2, strides=2))"
      ]
    },
    {
      "cell_type": "markdown",
      "metadata": {
        "id": "tmiEuvTunKfk"
      },
      "source": [
        "### Step 3 - Flattening"
      ]
    },
    {
      "cell_type": "code",
      "execution_count": 40,
      "metadata": {
        "id": "6AZeOGCvnNZn"
      },
      "outputs": [],
      "source": [
        "cnn.add(tf.keras.layers.Flatten())"
      ]
    },
    {
      "cell_type": "markdown",
      "metadata": {
        "id": "dAoSECOm203v"
      },
      "source": [
        "### Step 4 - Full Connection"
      ]
    },
    {
      "cell_type": "code",
      "execution_count": 41,
      "metadata": {
        "id": "8GtmUlLd26Nq"
      },
      "outputs": [],
      "source": [
        "cnn.add(tf.keras.layers.Dense(units=128, activation='relu'))"
      ]
    },
    {
      "cell_type": "markdown",
      "metadata": {
        "id": "yTldFvbX28Na"
      },
      "source": [
        "### Step 5 - Output Layer"
      ]
    },
    {
      "cell_type": "code",
      "execution_count": 42,
      "metadata": {
        "id": "1p_Zj1Mc3Ko_"
      },
      "outputs": [],
      "source": [
        "cnn.add(tf.keras.layers.Dense(units=14, activation='softmax'))"
      ]
    },
    {
      "cell_type": "markdown",
      "metadata": {
        "id": "D6XkI90snSDl"
      },
      "source": [
        "## Part 3 - Training the CNN"
      ]
    },
    {
      "cell_type": "markdown",
      "metadata": {
        "id": "vfrFQACEnc6i"
      },
      "source": [
        "### Compiling the CNN"
      ]
    },
    {
      "cell_type": "code",
      "execution_count": 43,
      "metadata": {
        "id": "NALksrNQpUlJ"
      },
      "outputs": [],
      "source": [
        "cnn.compile(optimizer = 'adam', loss = 'categorical_crossentropy', metrics = ['accuracy'])"
      ]
    },
    {
      "cell_type": "markdown",
      "metadata": {
        "id": "ehS-v3MIpX2h"
      },
      "source": [
        "### Training the CNN on the Training set and evaluating it on the Test set"
      ]
    },
    {
      "cell_type": "code",
      "execution_count": 44,
      "metadata": {
        "colab": {
          "base_uri": "https://localhost:8080/"
        },
        "id": "XUj1W4PJptta",
        "outputId": "faa4402b-46d3-44b1-b3a0-7c434cedafbc"
      },
      "outputs": [
        {
          "name": "stdout",
          "output_type": "stream",
          "text": [
            "Epoch 1/15\n",
            "75/75 [==============================] - 45s 595ms/step - loss: 1.2594 - accuracy: 0.5715 - val_loss: 0.7573 - val_accuracy: 0.7713\n",
            "Epoch 2/15\n",
            "75/75 [==============================] - 42s 566ms/step - loss: 0.5141 - accuracy: 0.8088 - val_loss: 0.2694 - val_accuracy: 0.9238\n",
            "Epoch 3/15\n",
            "75/75 [==============================] - 40s 534ms/step - loss: 0.2754 - accuracy: 0.8979 - val_loss: 0.2785 - val_accuracy: 0.9350\n",
            "Epoch 4/15\n",
            "75/75 [==============================] - 42s 562ms/step - loss: 0.2234 - accuracy: 0.9276 - val_loss: 0.1939 - val_accuracy: 0.9462\n",
            "Epoch 5/15\n",
            "75/75 [==============================] - 42s 566ms/step - loss: 0.1581 - accuracy: 0.9427 - val_loss: 0.1789 - val_accuracy: 0.9439\n",
            "Epoch 6/15\n",
            "75/75 [==============================] - 41s 541ms/step - loss: 0.1517 - accuracy: 0.9485 - val_loss: 0.0915 - val_accuracy: 0.9731\n",
            "Epoch 7/15\n",
            "75/75 [==============================] - 41s 548ms/step - loss: 0.1046 - accuracy: 0.9686 - val_loss: 0.0718 - val_accuracy: 0.9753\n",
            "Epoch 8/15\n",
            "75/75 [==============================] - 40s 530ms/step - loss: 0.0976 - accuracy: 0.9699 - val_loss: 0.0865 - val_accuracy: 0.9709\n",
            "Epoch 9/15\n",
            "75/75 [==============================] - 42s 562ms/step - loss: 0.0952 - accuracy: 0.9724 - val_loss: 0.0576 - val_accuracy: 0.9798\n",
            "Epoch 10/15\n",
            "75/75 [==============================] - 43s 572ms/step - loss: 0.1013 - accuracy: 0.9665 - val_loss: 0.0602 - val_accuracy: 0.9865\n",
            "Epoch 11/15\n",
            "75/75 [==============================] - 41s 545ms/step - loss: 0.0789 - accuracy: 0.9795 - val_loss: 0.0962 - val_accuracy: 0.9686\n",
            "Epoch 12/15\n",
            "75/75 [==============================] - 41s 546ms/step - loss: 0.0588 - accuracy: 0.9808 - val_loss: 0.0321 - val_accuracy: 0.9821\n",
            "Epoch 13/15\n",
            "75/75 [==============================] - 39s 521ms/step - loss: 0.0682 - accuracy: 0.9787 - val_loss: 0.0582 - val_accuracy: 0.9776\n",
            "Epoch 14/15\n",
            "75/75 [==============================] - 39s 519ms/step - loss: 0.0661 - accuracy: 0.9774 - val_loss: 0.0178 - val_accuracy: 0.9933\n",
            "Epoch 15/15\n",
            "75/75 [==============================] - 39s 516ms/step - loss: 0.0493 - accuracy: 0.9841 - val_loss: 0.0187 - val_accuracy: 0.9955\n"
          ]
        }
      ],
      "source": [
        "r=cnn.fit(x = training_set, validation_data = test_set, epochs = 15)"
      ]
    },
    {
      "cell_type": "markdown",
      "metadata": {
        "id": "U3PZasO0006Z"
      },
      "source": [
        "## Part 4 - Making a single prediction"
      ]
    },
    {
      "cell_type": "code",
      "execution_count": 45,
      "metadata": {
        "id": "gsSiWEJY1BPB"
      },
      "outputs": [],
      "source": [
        "import numpy as np\n",
        "from keras.preprocessing import image\n",
        "test_image = image.load_img('C://Users/Vikash Sonar/Desktop/dataset/validation/IMG_20211205_190317_20.jpg', target_size = (128, 128))\n",
        "test_image = image.img_to_array(test_image)\n",
        "test_image = np.expand_dims(test_image, axis = 0)\n",
        "\n",
        "result = cnn.predict(test_image)\n",
        "training_set.class_indices\n",
        "           # print(result)\n",
        "if result[0][0]:\n",
        "      prediction = 'auto track'\n",
        "elif result[0][1]:\n",
        "      prediction = 'bus stop'\n",
        "elif result[0][2]:\n",
        "      prediction = 'car parking'\n",
        "elif result[0][3]:\n",
        "      prediction = 'cycling one way'\n",
        "elif result[0][4]:\n",
        "      prediction = 'go slow'\n",
        "elif result[0][5]:\n",
        "      prediction = 'no bike'\n",
        "elif result[0][6]:\n",
        "      prediction = 'no left'\n",
        "elif result[0][7]:\n",
        "      prediction = 'no parking'\n",
        "elif result[0][8]:\n",
        "      prediction =  'no right'\n",
        "elif result[0][9]:\n",
        "        prediction = 'speed 80'\n",
        "elif result[0][10]:\n",
        "        prediction = 'speed limit'\n",
        "elif result[0][11]:\n",
        "        prediction = 'speed70'\n",
        "elif result[0][12]:\n",
        "        prediction =  'stop and proceed'\n",
        "elif result[0][13]:\n",
        "        prediction = 'zebra crossing'"
      ]
    },
    {
      "cell_type": "code",
      "execution_count": 46,
      "metadata": {
        "colab": {
          "base_uri": "https://localhost:8080/"
        },
        "id": "ED9KB3I54c1i",
        "outputId": "a76996ff-062f-4e3c-cc8d-e9d1acb00a7a"
      },
      "outputs": [
        {
          "name": "stdout",
          "output_type": "stream",
          "text": [
            "cycling one way\n"
          ]
        }
      ],
      "source": [
        "print(prediction)"
      ]
    },
    {
      "cell_type": "code",
      "execution_count": 47,
      "metadata": {
        "colab": {
          "base_uri": "https://localhost:8080/",
          "height": 245
        },
        "id": "Sw2IVl7QES1N",
        "outputId": "2bf4464a-2e4b-4f0f-91cb-f2dd79bd3821"
      },
      "outputs": [
        {
          "name": "stdout",
          "output_type": "stream",
          "text": [
            "Saved model to disk\n"
          ]
        }
      ],
      "source": [
        "# serialize model to JSON\n",
        "model_json = cnn.to_json()\n",
        "with open(\"model.json\", \"w\") as json_file:\n",
        "    json_file.write(model_json)\n",
        "# serialize weights to HDF5\n",
        "cnn.save_weights(\"model.h5\")\n",
        "print(\"Saved model to disk\")\n",
        "\n",
        "\n"
      ]
    },
    {
      "cell_type": "code",
      "execution_count": 48,
      "metadata": {
        "colab": {
          "base_uri": "https://localhost:8080/",
          "height": 559
        },
        "id": "WoQ6_6Z8ES1N",
        "outputId": "821ba977-a163-4b63-f87a-b5638246b3d2"
      },
      "outputs": [
        {
          "data": {
            "image/png": "[encoded data removed]",
            "text/plain": [
              "<Figure size 432x288 with 1 Axes>"
            ]
          },
          "metadata": {
            "needs_background": "light"
          },
          "output_type": "display_data"
        },
        {
          "data": {
            "image/png": "[encoded data removed]",
            "text/plain": [
              "<Figure size 432x288 with 1 Axes>"
            ]
          },
          "metadata": {
            "needs_background": "light"
          },
          "output_type": "display_data"
        },
        {
          "data": {
            "text/plain": [
              "<Figure size 432x288 with 0 Axes>"
            ]
          },
          "metadata": {},
          "output_type": "display_data"
        }
      ],
      "source": [
        "import matplotlib.pyplot as plt\n",
        "plt.plot(r.history['loss'], label='train loss')\n",
        "plt.plot(r.history['val_loss'], label='val loss')\n",
        "plt.xlabel('Epochs')\n",
        "plt.ylabel('Loss (in %)')\n",
        "plt.legend()\n",
        "plt.show()\n",
        "plt.savefig('LossVal_loss')\n",
        "\n",
        "# plot the accuracy\n",
        "plt.plot(r.history['accuracy'], label='train acc')\n",
        "plt.plot(r.history['val_accuracy'], label='val acc')\n",
        "plt.xlabel('Epochs')\n",
        "plt.ylabel('Accuracy (in %)')\n",
        "plt.legend()\n",
        "plt.show()\n",
        "plt.savefig('AccVal_acc')"
      ]
    },
    {
      "cell_type": "code",
      "execution_count": 49,
      "metadata": {
        "colab": {
          "base_uri": "https://localhost:8080/"
        },
        "id": "7wJzwX-VES1O",
        "outputId": "ea53f03a-9dae-4fc1-d51d-c99dd40d3789"
      },
      "outputs": [
        {
          "name": "stdout",
          "output_type": "stream",
          "text": [
            "Model: \"sequential_1\"\n",
            "_________________________________________________________________\n",
            " Layer (type)                Output Shape              Param #   \n",
            "=================================================================\n",
            " conv2d_2 (Conv2D)           (None, 126, 126, 32)      896       \n",
            "                                                                 \n",
            " max_pooling2d_2 (MaxPooling  (None, 63, 63, 32)       0         \n",
            " 2D)                                                             \n",
            "                                                                 \n",
            " conv2d_3 (Conv2D)           (None, 61, 61, 32)        9248      \n",
            "                                                                 \n",
            " max_pooling2d_3 (MaxPooling  (None, 30, 30, 32)       0         \n",
            " 2D)                                                             \n",
            "                                                                 \n",
            " flatten_1 (Flatten)         (None, 28800)             0         \n",
            "                                                                 \n",
            " dense_2 (Dense)             (None, 128)               3686528   \n",
            "                                                                 \n",
            " dense_3 (Dense)             (None, 14)                1806      \n",
            "                                                                 \n",
            "=================================================================\n",
            "Total params: 3,698,478\n",
            "Trainable params: 3,698,478\n",
            "Non-trainable params: 0\n",
            "_________________________________________________________________\n"
          ]
        }
      ],
      "source": [
        "cnn.summary()"
      ]
    },
    {
      "cell_type": "code",
      "execution_count": 50,
      "metadata": {
        "colab": {
          "base_uri": "https://localhost:8080/"
        },
        "id": "Tj6TRTI9ES1O",
        "outputId": "3cdc5541-0c20-4b60-9fcf-3368f029e3a8"
      },
      "outputs": [
        {
          "name": "stdout",
          "output_type": "stream",
          "text": [
            "INFO:tensorflow:Assets written to: my_model\\assets\n"
          ]
        }
      ],
      "source": [
        "cnn.save(\"my_model\")"
      ]
    },
    {
      "cell_type": "code",
      "execution_count": 51,
      "metadata": {
        "id": "7nykREfVES1O"
      },
      "outputs": [],
      "source": [
        "from keras.models import load_model\n",
        "\n",
        "cnn.save('my_model.h5')  # creates a HDF5 file 'my_model.h5'\n",
        "del cnn  # deletes the existing model\n",
        "\n",
        "# returns a compiled model\n",
        "# identical to the previous one\n",
        "model = load_model('my_model.h5')"
      ]
    },
    {
      "cell_type": "code",
      "execution_count": 52,
      "metadata": {
        "colab": {
          "base_uri": "https://localhost:8080/"
        },
        "id": "F3OjmPz6ES1P",
        "outputId": "81515755-6711-4474-f793-720e4b19db1a"
      },
      "outputs": [
        {
          "name": "stdout",
          "output_type": "stream",
          "text": [
            "0.6666666666666666\n"
          ]
        }
      ],
      "source": [
        "import sklearn.metrics\n",
        "\n",
        "y_true = [\"positive\", \"positive\", \"positive\", \"negative\", \"negative\", \"negative\"]\n",
        "y_pred = [\"positive\", \"positive\", \"negative\", \"positive\", \"negative\", \"negative\"]\n",
        "\n",
        "recall = sklearn.metrics.recall_score(y_true, y_pred, pos_label=\"positive\")\n",
        "print(recall)"
      ]
    },
    {
      "cell_type": "code",
      "execution_count": null,
      "metadata": {
        "id": "Do9LWiYkES1P"
      },
      "outputs": [],
      "source": []
    }
  ],
  "metadata": {
    "colab": {
      "collapsed_sections": [],
      "name": "Copy of finalCNN.ipynb",
      "provenance": []
    },
    "kernelspec": {
      "display_name": "Python 3 (ipykernel)",
      "language": "python",
      "name": "python3"
    },
    "language_info": {
      "codemirror_mode": {
        "name": "ipython",
        "version": 3
      },
      "file_extension": ".py",
      "mimetype": "text/x-python",
      "name": "python",
      "nbconvert_exporter": "python",
      "pygments_lexer": "ipython3",
      "version": "3.9.2"
    }
  },
  "nbformat": 4,
  "nbformat_minor": 0
}
